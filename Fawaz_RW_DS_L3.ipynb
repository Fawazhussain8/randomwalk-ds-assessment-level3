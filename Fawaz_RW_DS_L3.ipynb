{
 "cells": [
  {
   "cell_type": "code",
   "execution_count": 37,
   "id": "360b53c6",
   "metadata": {},
   "outputs": [
    {
     "name": "stdout",
     "output_type": "stream",
     "text": [
      "Number of books without an original title: 36\n"
     ]
    }
   ],
   "source": [
    "import pandas as pd\n",
    "import matplotlib.pyplot as plt\n",
    "\n",
    "df=pd.read_csv(r\"C:\\Fz\\RW\\randomwalk-ds-assessment-level3-main\\randomwalk-ds-assessment-level3-main\\books.csv\")\n",
    "\n",
    "\n",
    "No_org_title = df['original_title'].isnull().sum()\n",
    "print(f\"Number of books without an original title: {No_org_title}\")\n"
   ]
  },
  {
   "cell_type": "code",
   "execution_count": 38,
   "id": "6743e32f",
   "metadata": {},
   "outputs": [
    {
     "name": "stdout",
     "output_type": "stream",
     "text": [
      "Number of unique books after cleaning: 363\n"
     ]
    }
   ],
   "source": [
    "book_tags = pd.read_csv(r\"C:\\Fz\\RW\\randomwalk-ds-assessment-level3-main\\randomwalk-ds-assessment-level3-main\\book_tags.csv\")\n",
    "\n",
    "ratings = pd.read_csv(r\"C:\\Fz\\RW\\randomwalk-ds-assessment-level3-main\\randomwalk-ds-assessment-level3-main\\ratings.csv\")\n",
    "\n",
    "books_cleaned = df.dropna(subset=['original_title'])\n",
    "\n",
    "unique_books_count = books_cleaned['book_id'].nunique()\n",
    "\n",
    "print(f\"Number of unique books after cleaning: {unique_books_count}\")"
   ]
  },
  {
   "cell_type": "code",
   "execution_count": 39,
   "id": "c8dce07e",
   "metadata": {},
   "outputs": [
    {
     "name": "stdout",
     "output_type": "stream",
     "text": [
      "Number of unique users in the dataset: 40836\n"
     ]
    }
   ],
   "source": [
    "unique_users_count = ratings['user_id'].nunique()\n",
    "\n",
    "print(f\"Number of unique users in the dataset: {unique_users_count}\")"
   ]
  },
  {
   "cell_type": "code",
   "execution_count": 40,
   "id": "50396286",
   "metadata": {},
   "outputs": [
    {
     "name": "stdout",
     "output_type": "stream",
     "text": [
      "Number of unique tags in the dataset: 3651\n"
     ]
    }
   ],
   "source": [
    "book_tags = pd.read_csv(r\"C:\\Fz\\RW\\randomwalk-ds-assessment-level3-main\\randomwalk-ds-assessment-level3-main\\book_tags.csv\")\n",
    "\n",
    "unique_tags_count = book_tags['tag_id'].nunique()\n",
    "print(f\"Number of unique tags in the dataset: {unique_tags_count}\")\n"
   ]
  },
  {
   "cell_type": "code",
   "execution_count": 41,
   "id": "07aaa12a",
   "metadata": {},
   "outputs": [
    {
     "name": "stdout",
     "output_type": "stream",
     "text": [
      "The most frequently used tag_id is: 4600\n"
     ]
    }
   ],
   "source": [
    "most_used_tag_id = book_tags['tag_id'].value_counts().idxmax()\n",
    "\n",
    "print(f\"The most frequently used tag_id is: {most_used_tag_id}\")\n"
   ]
  },
  {
   "cell_type": "code",
   "execution_count": 42,
   "id": "c8e19336",
   "metadata": {},
   "outputs": [
    {
     "name": "stdout",
     "output_type": "stream",
     "text": [
      "The book with the most counts of tags is: Bossypants\n"
     ]
    }
   ],
   "source": [
    "merged = pd.merge(book_tags, df, on='goodreads_book_id')\n",
    "\n",
    "most_tags_book_title = merged.groupby('title')['count'].sum().idxmax()\n",
    "\n",
    "print(f\"The book with the most counts of tags is: {most_tags_book_title}\")\n"
   ]
  },
  {
   "cell_type": "code",
   "execution_count": 43,
   "id": "f93a9197",
   "metadata": {},
   "outputs": [
    {
     "data": {
      "image/png": "[encoded data removed]",
      "text/plain": [
       "<Figure size 640x480 with 1 Axes>"
      ]
     },
     "metadata": {},
     "output_type": "display_data"
    }
   ],
   "source": [
    "top_tags = book_tags.groupby('tag_id')['count'].sum().sort_values(ascending=False).head(20)\n",
    "\n",
    "plt.bar(range(len(top_tags)), top_tags.values)\n",
    "plt.xlabel('Tag ID')\n",
    "plt.ylabel('User Records')\n",
    "plt.title('Top 20 Tags in Descending Order of User Records')\n",
    "plt.show()\n"
   ]
  },
  {
   "cell_type": "code",
   "execution_count": null,
   "id": "1bf37975",
   "metadata": {},
   "outputs": [],
   "source": []
  }
 ],
 "metadata": {
  "kernelspec": {
   "display_name": "Python 3 (ipykernel)",
   "language": "python",
   "name": "python3"
  },
  "language_info": {
   "codemirror_mode": {
    "name": "ipython",
    "version": 3
   },
   "file_extension": ".py",
   "mimetype": "text/x-python",
   "name": "python",
   "nbconvert_exporter": "python",
   "pygments_lexer": "ipython3",
   "version": "3.11.5"
  }
 },
 "nbformat": 4,
 "nbformat_minor": 5
}
